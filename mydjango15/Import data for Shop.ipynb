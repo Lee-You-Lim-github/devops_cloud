{
 "cells": [
  {
   "cell_type": "code",
   "execution_count": 1,
   "id": "f663e290",
   "metadata": {},
   "outputs": [],
   "source": [
    "import os\n",
    "os.environ[\"DJANGO_SETTINGS_MODULE\"] = \"mydjango15.settings\"\n",
    "os.environ[\"DJANGO_ALLOW_ASYNC_UNSAFE\"] = \"true\"\n",
    "\n",
    "import django\n",
    "django.setup()"
   ]
  },
  {
   "cell_type": "code",
   "execution_count": 2,
   "id": "4cd382cf",
   "metadata": {},
   "outputs": [
    {
     "data": {
      "text/plain": [
       "[['name', 'description', 'address', 'coordinates', 'telephone'],\n",
       " ['파리바게뜨 대전판암점',\n",
       "  '크랜베리닭가슴살 샌드위치가 맛있음',\n",
       "  '대전 동구 옥천로 178-1 ',\n",
       "  '36.3170396,127.4602147',\n",
       "  '042-272-8838'],\n",
       " ['신선 칼국수 ',\n",
       "  '물총칼국수, 민물새우 칼국수가 주메뉴!',\n",
       "  '대전 동구 계족로 188',\n",
       "  '36.3303941,127.4422889',\n",
       "  '042-335-5252'],\n",
       " ['인아웃',\n",
       "  '대박대박 인절미 크로플과 크림말차 라떼가 진짜 맛있음.\\n지금도 먹고싶을 정도...!',\n",
       "  '대전 서구 용소로44번길 21',\n",
       "  '36.3545224,127.3836025',\n",
       "  '0507-1314-9101'],\n",
       " ['여보게웃게 본점',\n",
       "  '간장&양념게장 무한리필!!',\n",
       "  '대전 서구 도안동로31번길 19-4',\n",
       "  '36.3066955,127.3516552',\n",
       "  '042-542-0711'],\n",
       " ['하레하레 도안점',\n",
       "  '마늘바게트가 세상 존맛',\n",
       "  '대전 서구 원도안로26번길 13',\n",
       "  '36.3075643,127.3483457',\n",
       "  '0507-1409-1596'],\n",
       " ['설어정 둔산점',\n",
       "  '집에서 스테이크 먹는 것과는 차원이 다름. 한 끼 식사로 적당함.',\n",
       "  '대전 서구 둔산로31번길 50',\n",
       "  '36.3452509,127.3742055',\n",
       "  '042-472-5337'],\n",
       " ['무라텐',\n",
       "  '처음 텐동을 먹었던 곳! 튀김을 먼저 먹은 뒤 마지막에 온천 계란을\\n밥과 같이 먹었을 땐 환상임. (정말 가끔...단호박이 안 익을 때도 있음)',\n",
       "  '대전 유성구 반석동로40번길 90 ',\n",
       "  '36.3897519,127.3155931',\n",
       "  '042-472-5337'],\n",
       " ['나인원',\n",
       "  '안심 가츠 맛집!!! 트러플 오일에 찍어 먹으면 너무 맛있음!!!!',\n",
       "  '대전 유성구 반석로 104',\n",
       "  '36.389963,127.3033052',\n",
       "  '070-7783-9191'],\n",
       " ['최진엽등촌샤브샤브',\n",
       "  '대학가에 있어서 가성비 샤브샤브집이며 샤브샤브도 맛있지만\\n콘셀러드도 완전 맛있어서 계속 리필하게 됨. 소고기도 괜찮음!!',\n",
       "  '대전 유성구 궁동로18번길 40 ',\n",
       "  '36.3626722,127.3495911',\n",
       "  '042-826-9097'],\n",
       " ['쉐이크쉑 대전 타임월드점',\n",
       "  'ㄹㅇ소고기 패디여서 처음엔 짰는데 맛있음!!!',\n",
       "  '대전 서구 대덕대로 219 ',\n",
       "  '36.3526325,127.3787372',\n",
       "  '042-720-6133']]"
      ]
     },
     "execution_count": 2,
     "metadata": {},
     "output_type": "execute_result"
    }
   ],
   "source": [
    "# pip install openpyxl\n",
    "from openpyxl import load_workbook\n",
    "wb = load_workbook('mydjango15-data.xlsx')\n",
    "sheet = wb.active\n",
    "rows = [\n",
    "\t[column.value for column in row]\n",
    "\tfor row in sheet\n",
    "]\n",
    "rows"
   ]
  },
  {
   "cell_type": "code",
   "execution_count": 3,
   "id": "c99bc02b",
   "metadata": {},
   "outputs": [
    {
     "data": {
      "text/plain": [
       "['name', 'description', 'address', 'coordinates', 'telephone']"
      ]
     },
     "execution_count": 3,
     "metadata": {},
     "output_type": "execute_result"
    }
   ],
   "source": [
    "column_names = rows[0]\n",
    "column_names"
   ]
  },
  {
   "cell_type": "code",
   "execution_count": 5,
   "id": "53a6197c",
   "metadata": {
    "scrolled": true
   },
   "outputs": [
    {
     "data": {
      "text/plain": [
       "[{'name': '파리바게뜨 대전판암점',\n",
       "  'description': '크랜베리닭가슴살 샌드위치가 맛있음',\n",
       "  'address': '대전 동구 옥천로 178-1 ',\n",
       "  'telephone': '042-272-8838',\n",
       "  'latitude': '36.3170396',\n",
       "  'longitude': '127.4602147'},\n",
       " {'name': '신선 칼국수 ',\n",
       "  'description': '물총칼국수, 민물새우 칼국수가 주메뉴!',\n",
       "  'address': '대전 동구 계족로 188',\n",
       "  'telephone': '042-335-5252',\n",
       "  'latitude': '36.3303941',\n",
       "  'longitude': '127.4422889'},\n",
       " {'name': '인아웃',\n",
       "  'description': '대박대박 인절미 크로플과 크림말차 라떼가 진짜 맛있음.\\n지금도 먹고싶을 정도...!',\n",
       "  'address': '대전 서구 용소로44번길 21',\n",
       "  'telephone': '0507-1314-9101',\n",
       "  'latitude': '36.3545224',\n",
       "  'longitude': '127.3836025'},\n",
       " {'name': '여보게웃게 본점',\n",
       "  'description': '간장&양념게장 무한리필!!',\n",
       "  'address': '대전 서구 도안동로31번길 19-4',\n",
       "  'telephone': '042-542-0711',\n",
       "  'latitude': '36.3066955',\n",
       "  'longitude': '127.3516552'},\n",
       " {'name': '하레하레 도안점',\n",
       "  'description': '마늘바게트가 세상 존맛',\n",
       "  'address': '대전 서구 원도안로26번길 13',\n",
       "  'telephone': '0507-1409-1596',\n",
       "  'latitude': '36.3075643',\n",
       "  'longitude': '127.3483457'},\n",
       " {'name': '설어정 둔산점',\n",
       "  'description': '집에서 스테이크 먹는 것과는 차원이 다름. 한 끼 식사로 적당함.',\n",
       "  'address': '대전 서구 둔산로31번길 50',\n",
       "  'telephone': '042-472-5337',\n",
       "  'latitude': '36.3452509',\n",
       "  'longitude': '127.3742055'},\n",
       " {'name': '무라텐',\n",
       "  'description': '처음 텐동을 먹었던 곳! 튀김을 먼저 먹은 뒤 마지막에 온천 계란을\\n밥과 같이 먹었을 땐 환상임. (정말 가끔...단호박이 안 익을 때도 있음)',\n",
       "  'address': '대전 유성구 반석동로40번길 90 ',\n",
       "  'telephone': '042-472-5337',\n",
       "  'latitude': '36.3897519',\n",
       "  'longitude': '127.3155931'},\n",
       " {'name': '나인원',\n",
       "  'description': '안심 가츠 맛집!!! 트러플 오일에 찍어 먹으면 너무 맛있음!!!!',\n",
       "  'address': '대전 유성구 반석로 104',\n",
       "  'telephone': '070-7783-9191',\n",
       "  'latitude': '36.389963',\n",
       "  'longitude': '127.3033052'},\n",
       " {'name': '최진엽등촌샤브샤브',\n",
       "  'description': '대학가에 있어서 가성비 샤브샤브집이며 샤브샤브도 맛있지만\\n콘셀러드도 완전 맛있어서 계속 리필하게 됨. 소고기도 괜찮음!!',\n",
       "  'address': '대전 유성구 궁동로18번길 40 ',\n",
       "  'telephone': '042-826-9097',\n",
       "  'latitude': '36.3626722',\n",
       "  'longitude': '127.3495911'},\n",
       " {'name': '쉐이크쉑 대전 타임월드점',\n",
       "  'description': 'ㄹㅇ소고기 패디여서 처음엔 짰는데 맛있음!!!',\n",
       "  'address': '대전 서구 대덕대로 219 ',\n",
       "  'telephone': '042-720-6133',\n",
       "  'latitude': '36.3526325',\n",
       "  'longitude': '127.3787372'}]"
      ]
     },
     "execution_count": 5,
     "metadata": {},
     "output_type": "execute_result"
    }
   ],
   "source": [
    "row_list =[]\n",
    "for row in rows[1:]:\n",
    "    if row[0] is None:\n",
    "        break\n",
    "    row_dict = dict(zip(column_names, row)) # 키만 들어있는 리스트와 값만 들어 있는 리스트\n",
    "    latitude, longitude = row_dict[\"coordinates\"].split(\",\")\n",
    "    row_dict[\"latitude\"] = latitude\n",
    "    row_dict[\"longitude\"] = longitude\n",
    "    del row_dict[\"coordinates\"]\n",
    "    row_list.append(row_dict)\n",
    "    \n",
    "row_list"
   ]
  },
  {
   "cell_type": "code",
   "execution_count": 6,
   "id": "ba73fb8a",
   "metadata": {},
   "outputs": [],
   "source": [
    "from delicious.models import Shop"
   ]
  },
  {
   "cell_type": "code",
   "execution_count": 7,
   "id": "4cb4b22d",
   "metadata": {
    "collapsed": true
   },
   "outputs": [
    {
     "name": "stdout",
     "output_type": "stream",
     "text": [
      "{'name': '파리바게뜨 대전판암점', 'description': '크랜베리닭가슴살 샌드위치가 맛있음', 'address': '대전 동구 옥천로 178-1 ', 'telephone': '042-272-8838', 'latitude': '36.3170396', 'longitude': '127.4602147'}\n",
      "{'name': '신선 칼국수 ', 'description': '물총칼국수, 민물새우 칼국수가 주메뉴!', 'address': '대전 동구 계족로 188', 'telephone': '042-335-5252', 'latitude': '36.3303941', 'longitude': '127.4422889'}\n",
      "{'name': '인아웃', 'description': '대박대박 인절미 크로플과 크림말차 라떼가 진짜 맛있음.\\n지금도 먹고싶을 정도...!', 'address': '대전 서구 용소로44번길 21', 'telephone': '0507-1314-9101', 'latitude': '36.3545224', 'longitude': '127.3836025'}\n",
      "{'name': '여보게웃게 본점', 'description': '간장&양념게장 무한리필!!', 'address': '대전 서구 도안동로31번길 19-4', 'telephone': '042-542-0711', 'latitude': '36.3066955', 'longitude': '127.3516552'}\n",
      "{'name': '하레하레 도안점', 'description': '마늘바게트가 세상 존맛', 'address': '대전 서구 원도안로26번길 13', 'telephone': '0507-1409-1596', 'latitude': '36.3075643', 'longitude': '127.3483457'}\n",
      "{'name': '설어정 둔산점', 'description': '집에서 스테이크 먹는 것과는 차원이 다름. 한 끼 식사로 적당함.', 'address': '대전 서구 둔산로31번길 50', 'telephone': '042-472-5337', 'latitude': '36.3452509', 'longitude': '127.3742055'}\n",
      "{'name': '무라텐', 'description': '처음 텐동을 먹었던 곳! 튀김을 먼저 먹은 뒤 마지막에 온천 계란을\\n밥과 같이 먹었을 땐 환상임. (정말 가끔...단호박이 안 익을 때도 있음)', 'address': '대전 유성구 반석동로40번길 90 ', 'telephone': '042-472-5337', 'latitude': '36.3897519', 'longitude': '127.3155931'}\n",
      "{'name': '나인원', 'description': '안심 가츠 맛집!!! 트러플 오일에 찍어 먹으면 너무 맛있음!!!!', 'address': '대전 유성구 반석로 104', 'telephone': '070-7783-9191', 'latitude': '36.389963', 'longitude': '127.3033052'}\n",
      "{'name': '최진엽등촌샤브샤브', 'description': '대학가에 있어서 가성비 샤브샤브집이며 샤브샤브도 맛있지만\\n콘셀러드도 완전 맛있어서 계속 리필하게 됨. 소고기도 괜찮음!!', 'address': '대전 유성구 궁동로18번길 40 ', 'telephone': '042-826-9097', 'latitude': '36.3626722', 'longitude': '127.3495911'}\n",
      "{'name': '쉐이크쉑 대전 타임월드점', 'description': 'ㄹㅇ소고기 패디여서 처음엔 짰는데 맛있음!!!', 'address': '대전 서구 대덕대로 219 ', 'telephone': '042-720-6133', 'latitude': '36.3526325', 'longitude': '127.3787372'}\n"
     ]
    }
   ],
   "source": [
    "for row_dict in row_list:\n",
    "    shop = Shop(**row_dict)  #unpack\n",
    "    shop.save()\n",
    "    print(row_dict)"
   ]
  },
  {
   "cell_type": "code",
   "execution_count": null,
   "id": "3280aabf",
   "metadata": {},
   "outputs": [],
   "source": []
  },
  {
   "cell_type": "code",
   "execution_count": null,
   "id": "db287d00",
   "metadata": {},
   "outputs": [],
   "source": []
  },
  {
   "cell_type": "code",
   "execution_count": null,
   "id": "f9ac04d6",
   "metadata": {},
   "outputs": [],
   "source": []
  },
  {
   "cell_type": "code",
   "execution_count": null,
   "id": "76418cb0",
   "metadata": {},
   "outputs": [],
   "source": []
  },
  {
   "cell_type": "code",
   "execution_count": null,
   "id": "c6f3c9cc",
   "metadata": {},
   "outputs": [],
   "source": []
  }
 ],
 "metadata": {
  "kernelspec": {
   "display_name": "Python 3 (ipykernel)",
   "language": "python",
   "name": "python3"
  },
  "language_info": {
   "codemirror_mode": {
    "name": "ipython",
    "version": 3
   },
   "file_extension": ".py",
   "mimetype": "text/x-python",
   "name": "python",
   "nbconvert_exporter": "python",
   "pygments_lexer": "ipython3",
   "version": "3.10.0"
  }
 },
 "nbformat": 4,
 "nbformat_minor": 5
}
