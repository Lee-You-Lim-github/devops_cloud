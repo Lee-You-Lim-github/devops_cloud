{
 "cells": [
  {
   "cell_type": "code",
   "execution_count": 1,
   "id": "2a248ebb",
   "metadata": {},
   "outputs": [],
   "source": [
    "import os\n",
    "os.environ[\"DJANGO_SETTINGS_MODULE\"] = \"myhomework15p02.settings\"\n",
    "os.environ[\"DJANGO_ALLOW_ASYNC_UNSAFE\"] = \"true\"\n",
    "\n",
    "import django\n",
    "django.setup()"
   ]
  },
  {
   "cell_type": "code",
   "execution_count": 2,
   "id": "d83bbf3e",
   "metadata": {},
   "outputs": [
    {
     "data": {
      "text/plain": [
       "[['place', 'description', 'address', 'coordinates', 'telephone'],\n",
       " ['동문재래시장',\n",
       "  '저녁에는 야시장이 들어서 다양한 음식들을 맛볼 수 있으며,\\n특히 동문시장에서 유명한 남해수산에서 회를 사려면 일찍와야 한다.',\n",
       "  '제주 제주시 관덕로14길 20',\n",
       "  '33.51158170000001,126.526099',\n",
       "  '064-752-3001'],\n",
       " ['오설록 티 뮤지엄',\n",
       "  '한 눈에 보이는 녹차밭과 건물 안에 위치한 오설록 카페에서\\n먹었던 녹차 아이스크림을 잊을 수 없다ㅜㅜ',\n",
       "  '제주 서귀포시 안덕면 신화역사로 15 오설록',\n",
       "  '33.3058932,126.289534',\n",
       "  '064-794-5312'],\n",
       " ['산방산',\n",
       "  '어떤 면에서 생각을 할 때 산이라고 하기에는 애매하고 \\n오름이라고 하기에는 모호하지만 아래서 올려다 보는 산방산은 \\n큰 절벽이 형성되어 있어 웅장함을 자아낸다.',\n",
       "  '제주 서귀포시 안덕면',\n",
       "  '33.2496801,126.3371482',\n",
       "  '064-794-2940'],\n",
       " ['금능해수욕장',\n",
       "  '유명한 협재해수욕장 옆에 위치한 금능해수욕장은 협재보다는 \\n사람이 적어 여유롭게 휴가를 즐길 수 있다.',\n",
       "  '제주 제주시 한림읍 금능리',\n",
       "  '33.3598575,126.2460727',\n",
       "  '064-728-3983'],\n",
       " ['목장카페 드르쿰다',\n",
       "  '이곳에서 염소도 보고 승마체험도 할 수 있지만 가장 큰 메리트는  \\n카트다!!!! 빠른 속도와 함께 다른 사람들을 추월할 때의 그 짜릿함은\\n뭐라 표현할 말이 없다ㅋㅋ',\n",
       "  '제주 서귀포시 표선면 번영로 2454',\n",
       "  '33.4091347,126.7701478',\n",
       "  '064-787-5220'],\n",
       " ['서귀포매일올레시장',\n",
       "  '동문시장과는 다르게 주차도 잘 되어 있어서 괜찮지만 \\n가격은 동문시장보다 비싸다...',\n",
       "  '제주 서귀포시 서귀동 340',\n",
       "  '33.2500314,126.5639374',\n",
       "  '064-762-1949'],\n",
       " ['성산일출봉',\n",
       "  '해발 약 180m이지만 가파른 계단으로 올라가는데 힘은 들지만 \\n막상 올라오고 나서의 그 풍경은!!! 속이 펑! 뚤리는 것 같다. \\n비록 일출은 못 봒으나 일몰 풍경도 장난이 아니다 햇빛에 비친 \\n바다와 마을을 두 눈에 담기엔 역부족이다.',\n",
       "  '제주 서귀포시 성산읍 성산리 1',\n",
       "  '33.4584473,126.9425348',\n",
       "  '064-783-0959'],\n",
       " ['제주민속촌',\n",
       "  '제주도의 농촌, 어촌 마을의 전통 가옥을 볼 수 있으며, 여행하느라 \\n걷기 힘들다면 1000원으로 민속촌을 둘러 볼 수 있는 관광 버스가 \\n마련되어 있다.',\n",
       "  '제주 서귀포시 표선면 민속해안로 631-34',\n",
       "  '33.3223451,126.8414874',\n",
       "  '064-787-4501'],\n",
       " ['아쿠아플라넷 제주',\n",
       "  '돌고래 쇼와 수중 서커스를 볼 수 있으며 다양한 해양생물들을 제주에서 볼 수 있다.',\n",
       "  '제주 서귀포시 성산읍 섭지코지로 95 아쿠아플라넷 제주',\n",
       "  '33.4327935,126.9279101',\n",
       "  '1833-7001'],\n",
       " ['한라산',\n",
       "  '제주도의 중앙에 위치한 가장 큰 산으로 다양한 탐방로가 있으며,\\n특히 겨울의 한라산은 눈꽃밭의 향연이 펼쳐진다.',\n",
       "  '제주 서귀포시 토평동 산15-1',\n",
       "  '33.3468318,126.5364535',\n",
       "  '064-713-9950']]"
      ]
     },
     "execution_count": 2,
     "metadata": {},
     "output_type": "execute_result"
    }
   ],
   "source": [
    "# pip install openpyxl\n",
    "from openpyxl import load_workbook\n",
    "wb = load_workbook('myhomework15p02-data.xlsx')\n",
    "sheet = wb.active\n",
    "rows = [\n",
    "\t[column.value for column in row]\n",
    "\tfor row in sheet\n",
    "]\n",
    "rows"
   ]
  },
  {
   "cell_type": "code",
   "execution_count": 3,
   "id": "0cf0c9c2",
   "metadata": {},
   "outputs": [
    {
     "data": {
      "text/plain": [
       "['place', 'description', 'address', 'coordinates', 'telephone']"
      ]
     },
     "execution_count": 3,
     "metadata": {},
     "output_type": "execute_result"
    }
   ],
   "source": [
    "column_names = rows[0]\n",
    "column_names"
   ]
  },
  {
   "cell_type": "code",
   "execution_count": 4,
   "id": "d6f67492",
   "metadata": {},
   "outputs": [
    {
     "data": {
      "text/plain": [
       "[{'place': '동문재래시장',\n",
       "  'description': '저녁에는 야시장이 들어서 다양한 음식들을 맛볼 수 있으며,\\n특히 동문시장에서 유명한 남해수산에서 회를 사려면 일찍와야 한다.',\n",
       "  'address': '제주 제주시 관덕로14길 20',\n",
       "  'telephone': '064-752-3001',\n",
       "  'latitude': '33.51158170000001',\n",
       "  'longitude': '126.526099'},\n",
       " {'place': '오설록 티 뮤지엄',\n",
       "  'description': '한 눈에 보이는 녹차밭과 건물 안에 위치한 오설록 카페에서\\n먹었던 녹차 아이스크림을 잊을 수 없다ㅜㅜ',\n",
       "  'address': '제주 서귀포시 안덕면 신화역사로 15 오설록',\n",
       "  'telephone': '064-794-5312',\n",
       "  'latitude': '33.3058932',\n",
       "  'longitude': '126.289534'},\n",
       " {'place': '산방산',\n",
       "  'description': '어떤 면에서 생각을 할 때 산이라고 하기에는 애매하고 \\n오름이라고 하기에는 모호하지만 아래서 올려다 보는 산방산은 \\n큰 절벽이 형성되어 있어 웅장함을 자아낸다.',\n",
       "  'address': '제주 서귀포시 안덕면',\n",
       "  'telephone': '064-794-2940',\n",
       "  'latitude': '33.2496801',\n",
       "  'longitude': '126.3371482'},\n",
       " {'place': '금능해수욕장',\n",
       "  'description': '유명한 협재해수욕장 옆에 위치한 금능해수욕장은 협재보다는 \\n사람이 적어 여유롭게 휴가를 즐길 수 있다.',\n",
       "  'address': '제주 제주시 한림읍 금능리',\n",
       "  'telephone': '064-728-3983',\n",
       "  'latitude': '33.3598575',\n",
       "  'longitude': '126.2460727'},\n",
       " {'place': '목장카페 드르쿰다',\n",
       "  'description': '이곳에서 염소도 보고 승마체험도 할 수 있지만 가장 큰 메리트는  \\n카트다!!!! 빠른 속도와 함께 다른 사람들을 추월할 때의 그 짜릿함은\\n뭐라 표현할 말이 없다ㅋㅋ',\n",
       "  'address': '제주 서귀포시 표선면 번영로 2454',\n",
       "  'telephone': '064-787-5220',\n",
       "  'latitude': '33.4091347',\n",
       "  'longitude': '126.7701478'},\n",
       " {'place': '서귀포매일올레시장',\n",
       "  'description': '동문시장과는 다르게 주차도 잘 되어 있어서 괜찮지만 \\n가격은 동문시장보다 비싸다...',\n",
       "  'address': '제주 서귀포시 서귀동 340',\n",
       "  'telephone': '064-762-1949',\n",
       "  'latitude': '33.2500314',\n",
       "  'longitude': '126.5639374'},\n",
       " {'place': '성산일출봉',\n",
       "  'description': '해발 약 180m이지만 가파른 계단으로 올라가는데 힘은 들지만 \\n막상 올라오고 나서의 그 풍경은!!! 속이 펑! 뚤리는 것 같다. \\n비록 일출은 못 봒으나 일몰 풍경도 장난이 아니다 햇빛에 비친 \\n바다와 마을을 두 눈에 담기엔 역부족이다.',\n",
       "  'address': '제주 서귀포시 성산읍 성산리 1',\n",
       "  'telephone': '064-783-0959',\n",
       "  'latitude': '33.4584473',\n",
       "  'longitude': '126.9425348'},\n",
       " {'place': '제주민속촌',\n",
       "  'description': '제주도의 농촌, 어촌 마을의 전통 가옥을 볼 수 있으며, 여행하느라 \\n걷기 힘들다면 1000원으로 민속촌을 둘러 볼 수 있는 관광 버스가 \\n마련되어 있다.',\n",
       "  'address': '제주 서귀포시 표선면 민속해안로 631-34',\n",
       "  'telephone': '064-787-4501',\n",
       "  'latitude': '33.3223451',\n",
       "  'longitude': '126.8414874'},\n",
       " {'place': '아쿠아플라넷 제주',\n",
       "  'description': '돌고래 쇼와 수중 서커스를 볼 수 있으며 다양한 해양생물들을 제주에서 볼 수 있다.',\n",
       "  'address': '제주 서귀포시 성산읍 섭지코지로 95 아쿠아플라넷 제주',\n",
       "  'telephone': '1833-7001',\n",
       "  'latitude': '33.4327935',\n",
       "  'longitude': '126.9279101'},\n",
       " {'place': '한라산',\n",
       "  'description': '제주도의 중앙에 위치한 가장 큰 산으로 다양한 탐방로가 있으며,\\n특히 겨울의 한라산은 눈꽃밭의 향연이 펼쳐진다.',\n",
       "  'address': '제주 서귀포시 토평동 산15-1',\n",
       "  'telephone': '064-713-9950',\n",
       "  'latitude': '33.3468318',\n",
       "  'longitude': '126.5364535'}]"
      ]
     },
     "execution_count": 4,
     "metadata": {},
     "output_type": "execute_result"
    }
   ],
   "source": [
    "row_list =[]\n",
    "for row in rows[1:]:\n",
    "    if row[0] is None:\n",
    "        break\n",
    "    row_dict = dict(zip(column_names, row)) # 키만 들어있는 리스트와 값만 들어 있는 리스트\n",
    "    latitude, longitude = row_dict[\"coordinates\"].split(\",\")\n",
    "    row_dict[\"latitude\"] = latitude\n",
    "    row_dict[\"longitude\"] = longitude\n",
    "    del row_dict[\"coordinates\"]\n",
    "    row_list.append(row_dict)\n",
    "    \n",
    "row_list"
   ]
  },
  {
   "cell_type": "code",
   "execution_count": 14,
   "id": "80fc2269",
   "metadata": {},
   "outputs": [],
   "source": [
    "from jeju.models import Tour"
   ]
  },
  {
   "cell_type": "code",
   "execution_count": 15,
   "id": "aec82b2d",
   "metadata": {},
   "outputs": [
    {
     "name": "stdout",
     "output_type": "stream",
     "text": [
      "{'place': '동문재래시장', 'description': '저녁에는 야시장이 들어서 다양한 음식들을 맛볼 수 있으며,\\n특히 동문시장에서 유명한 남해수산에서 회를 사려면 일찍와야 한다.', 'address': '제주 제주시 관덕로14길 20', 'telephone': '064-752-3001', 'latitude': '33.51158170000001', 'longitude': '126.526099'}\n",
      "{'place': '오설록 티 뮤지엄', 'description': '한 눈에 보이는 녹차밭과 건물 안에 위치한 오설록 카페에서\\n먹었던 녹차 아이스크림을 잊을 수 없다ㅜㅜ', 'address': '제주 서귀포시 안덕면 신화역사로 15 오설록', 'telephone': '064-794-5312', 'latitude': '33.3058932', 'longitude': '126.289534'}\n",
      "{'place': '산방산', 'description': '어떤 면에서 생각을 할 때 산이라고 하기에는 애매하고 \\n오름이라고 하기에는 모호하지만 아래서 올려다 보는 산방산은 \\n큰 절벽이 형성되어 있어 웅장함을 자아낸다.', 'address': '제주 서귀포시 안덕면', 'telephone': '064-794-2940', 'latitude': '33.2496801', 'longitude': '126.3371482'}\n",
      "{'place': '금능해수욕장', 'description': '유명한 협재해수욕장 옆에 위치한 금능해수욕장은 협재보다는 \\n사람이 적어 여유롭게 휴가를 즐길 수 있다.', 'address': '제주 제주시 한림읍 금능리', 'telephone': '064-728-3983', 'latitude': '33.3598575', 'longitude': '126.2460727'}\n",
      "{'place': '목장카페 드르쿰다', 'description': '이곳에서 염소도 보고 승마체험도 할 수 있지만 가장 큰 메리트는  \\n카트다!!!! 빠른 속도와 함께 다른 사람들을 추월할 때의 그 짜릿함은\\n뭐라 표현할 말이 없다ㅋㅋ', 'address': '제주 서귀포시 표선면 번영로 2454', 'telephone': '064-787-5220', 'latitude': '33.4091347', 'longitude': '126.7701478'}\n",
      "{'place': '서귀포매일올레시장', 'description': '동문시장과는 다르게 주차도 잘 되어 있어서 괜찮지만 \\n가격은 동문시장보다 비싸다...', 'address': '제주 서귀포시 서귀동 340', 'telephone': '064-762-1949', 'latitude': '33.2500314', 'longitude': '126.5639374'}\n",
      "{'place': '성산일출봉', 'description': '해발 약 180m이지만 가파른 계단으로 올라가는데 힘은 들지만 \\n막상 올라오고 나서의 그 풍경은!!! 속이 펑! 뚤리는 것 같다. \\n비록 일출은 못 봒으나 일몰 풍경도 장난이 아니다 햇빛에 비친 \\n바다와 마을을 두 눈에 담기엔 역부족이다.', 'address': '제주 서귀포시 성산읍 성산리 1', 'telephone': '064-783-0959', 'latitude': '33.4584473', 'longitude': '126.9425348'}\n",
      "{'place': '제주민속촌', 'description': '제주도의 농촌, 어촌 마을의 전통 가옥을 볼 수 있으며, 여행하느라 \\n걷기 힘들다면 1000원으로 민속촌을 둘러 볼 수 있는 관광 버스가 \\n마련되어 있다.', 'address': '제주 서귀포시 표선면 민속해안로 631-34', 'telephone': '064-787-4501', 'latitude': '33.3223451', 'longitude': '126.8414874'}\n",
      "{'place': '아쿠아플라넷 제주', 'description': '돌고래 쇼와 수중 서커스를 볼 수 있으며 다양한 해양생물들을 제주에서 볼 수 있다.', 'address': '제주 서귀포시 성산읍 섭지코지로 95 아쿠아플라넷 제주', 'telephone': '1833-7001', 'latitude': '33.4327935', 'longitude': '126.9279101'}\n",
      "{'place': '한라산', 'description': '제주도의 중앙에 위치한 가장 큰 산으로 다양한 탐방로가 있으며,\\n특히 겨울의 한라산은 눈꽃밭의 향연이 펼쳐진다.', 'address': '제주 서귀포시 토평동 산15-1', 'telephone': '064-713-9950', 'latitude': '33.3468318', 'longitude': '126.5364535'}\n"
     ]
    }
   ],
   "source": [
    "for row_dict in row_list:\n",
    "    tour = Tour(**row_dict)  #unpack\n",
    "    tour.save()\n",
    "    print(row_dict)"
   ]
  },
  {
   "cell_type": "code",
   "execution_count": null,
   "id": "20ee10f0",
   "metadata": {},
   "outputs": [],
   "source": []
  }
 ],
 "metadata": {
  "kernelspec": {
   "display_name": "Python 3 (ipykernel)",
   "language": "python",
   "name": "python3"
  },
  "language_info": {
   "codemirror_mode": {
    "name": "ipython",
    "version": 3
   },
   "file_extension": ".py",
   "mimetype": "text/x-python",
   "name": "python",
   "nbconvert_exporter": "python",
   "pygments_lexer": "ipython3",
   "version": "3.10.0"
  }
 },
 "nbformat": 4,
 "nbformat_minor": 5
}