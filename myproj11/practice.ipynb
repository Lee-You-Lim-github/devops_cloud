{
 "cells": [
  {
   "cell_type": "code",
   "execution_count": 1,
   "id": "88cdebcc",
   "metadata": {},
   "outputs": [
    {
     "data": {
      "text/plain": [
       "str"
      ]
     },
     "execution_count": 1,
     "metadata": {},
     "output_type": "execute_result"
    }
   ],
   "source": [
    "type(\"a\",)"
   ]
  },
  {
   "cell_type": "code",
   "execution_count": 3,
   "id": "576278e1",
   "metadata": {},
   "outputs": [
    {
     "data": {
      "text/plain": [
       "'a,a,a,'"
      ]
     },
     "execution_count": 3,
     "metadata": {},
     "output_type": "execute_result"
    }
   ],
   "source": [
    "(\"a,\") * 3"
   ]
  },
  {
   "cell_type": "code",
   "execution_count": 4,
   "id": "405e46e1",
   "metadata": {},
   "outputs": [
    {
     "data": {
      "text/plain": [
       "('a', 'a', 'a')"
      ]
     },
     "execution_count": 4,
     "metadata": {},
     "output_type": "execute_result"
    }
   ],
   "source": [
    "(\"a\",) * 3"
   ]
  },
  {
   "cell_type": "code",
   "execution_count": 5,
   "id": "1e77f42a",
   "metadata": {},
   "outputs": [],
   "source": [
    "t1 = (\"x,\")"
   ]
  },
  {
   "cell_type": "code",
   "execution_count": 19,
   "id": "05df3615",
   "metadata": {},
   "outputs": [],
   "source": [
    "t2 = (\"y,\")"
   ]
  },
  {
   "cell_type": "code",
   "execution_count": 7,
   "id": "48a51db1",
   "metadata": {},
   "outputs": [
    {
     "data": {
      "text/plain": [
       "'x,y,'"
      ]
     },
     "execution_count": 7,
     "metadata": {},
     "output_type": "execute_result"
    }
   ],
   "source": [
    "t1 + t2"
   ]
  },
  {
   "cell_type": "code",
   "execution_count": 15,
   "id": "723757b6",
   "metadata": {},
   "outputs": [],
   "source": [
    "t1 = (\"x\", \"z\")"
   ]
  },
  {
   "cell_type": "code",
   "execution_count": 20,
   "id": "abeaaa35",
   "metadata": {},
   "outputs": [
    {
     "ename": "TypeError",
     "evalue": "can only concatenate tuple (not \"str\") to tuple",
     "output_type": "error",
     "traceback": [
      "\u001b[1;31m---------------------------------------------------------------------------\u001b[0m",
      "\u001b[1;31mTypeError\u001b[0m                                 Traceback (most recent call last)",
      "\u001b[1;32m~\\AppData\\Local\\Temp/ipykernel_20040/2420055791.py\u001b[0m in \u001b[0;36m<module>\u001b[1;34m\u001b[0m\n\u001b[1;32m----> 1\u001b[1;33m \u001b[0mt1\u001b[0m \u001b[1;33m+\u001b[0m \u001b[0mt2\u001b[0m\u001b[1;33m\u001b[0m\u001b[1;33m\u001b[0m\u001b[0m\n\u001b[0m",
      "\u001b[1;31mTypeError\u001b[0m: can only concatenate tuple (not \"str\") to tuple"
     ]
    }
   ],
   "source": [
    "t1 + t2"
   ]
  },
  {
   "cell_type": "code",
   "execution_count": null,
   "id": "9517b1a4",
   "metadata": {},
   "outputs": [],
   "source": []
  }
 ],
 "metadata": {
  "kernelspec": {
   "display_name": "Python 3 (ipykernel)",
   "language": "python",
   "name": "python3"
  },
  "language_info": {
   "codemirror_mode": {
    "name": "ipython",
    "version": 3
   },
   "file_extension": ".py",
   "mimetype": "text/x-python",
   "name": "python",
   "nbconvert_exporter": "python",
   "pygments_lexer": "ipython3",
   "version": "3.10.0"
  }
 },
 "nbformat": 4,
 "nbformat_minor": 5
}
